{
 "cells": [
  {
   "cell_type": "markdown",
   "id": "a0f95522",
   "metadata": {},
   "source": [
    "# 1.) ADS Project - SwissSuperLeague"
   ]
  },
  {
   "cell_type": "markdown",
   "id": "25cc87d0",
   "metadata": {},
   "source": [
    "Verwendete Quellen:\n",
    "\n",
    "- StatsBomb Release Free 2020/21 FA Women’s Super League Data & Updated ‘R’ Guide: https://statsbomb.com/articles/soccer/statsbomb-release-free-2020-21-fa-womens-super-league-data-updated-r-guide/\n",
    "- How to Build a Football Dataset with Web Scraping: https://www.kdnuggets.com/2020/11/build-football-dataset-web-scraping.html\n",
    "- Scrape FBref: https://github.com/parth1902/Scrape-FBref-data/blob/master/README.md\n",
    "- Web Scraping Advanced Football Statistics:  https://towardsdatascience.com/web-scraping-advanced-football-statistics-11cace1d863a"
   ]
  },
  {
   "cell_type": "markdown",
   "id": "04c8a8de",
   "metadata": {},
   "source": [
    "## Data Scraper"
   ]
  },
  {
   "cell_type": "markdown",
   "id": "89296335",
   "metadata": {},
   "source": [
    "Zuerst importieren wir die relevanten libraries."
   ]
  },
  {
   "cell_type": "code",
   "execution_count": null,
   "id": "1f40a389",
   "metadata": {},
   "outputs": [],
   "source": [
    "import pandas as pd\n",
    "import requests"
   ]
  },
  {
   "cell_type": "markdown",
   "id": "7e45bd57",
   "metadata": {},
   "source": [
    "Danach bauen wir einen Webscraper der tabellarische Daten von einer Website ziehen kann"
   ]
  },
  {
   "cell_type": "code",
   "execution_count": null,
   "id": "6d430c0c",
   "metadata": {},
   "outputs": [],
   "source": [
    "def scraper(url, table_number):#Variablen welche übergeben werden müssen   \n",
    "    url = url #URL: eine FBREF URL mit einer Tabelle\n",
    "    table_number = table_number #table_number: welche Tabelle auf der Seite (startet mit 0)\n",
    "    global data\n",
    "    html_content = requests.get(url).text.replace('<!--', '').replace('-->', '') #Anpassung an HTML\n",
    "    df = pd.read_html(html_content) \n",
    "    data = df[table_number]"
   ]
  },
  {
   "cell_type": "markdown",
   "id": "f605060d",
   "metadata": {},
   "source": [
    "Nun bestimmen wir die URL und Nummer des Tables auf der gewünschten Website"
   ]
  },
  {
   "cell_type": "code",
   "execution_count": null,
   "id": "2982a296",
   "metadata": {},
   "outputs": [],
   "source": [
    "url = 'https://fbref.com/en/comps/57/schedule/Swiss-Super-League-Scores-and-Fixtures'\n",
    "table_number = 0"
   ]
  },
  {
   "cell_type": "markdown",
   "id": "d7d47c27",
   "metadata": {},
   "source": [
    "Letztlich executen wir den Data Scraper für die schweizer SuperLeague Spieldaten von FBREF und speichern die Daten lokal in einem csv. file"
   ]
  },
  {
   "cell_type": "code",
   "execution_count": null,
   "id": "bc0979d7",
   "metadata": {},
   "outputs": [],
   "source": [
    "scraper(url, table_number)\n",
    "data\n",
    "data.to_csv('Swiss.csv',index=False)"
   ]
  },
  {
   "cell_type": "markdown",
   "id": "fcbc60e8",
   "metadata": {},
   "source": [
    "### Zusatz: Datenerweiterung mittels API"
   ]
  },
  {
   "cell_type": "markdown",
   "id": "bed8e009",
   "metadata": {},
   "source": [
    "- Man könnte die Daten jetzt \"anreichern\" mit Daten von einer API (in diesem Fall Wettquoten)\n",
    "- Wir haben hier Daten von https://rapidapi.com/boggio-analytics/api/football-prediction/details geholt\n",
    "- Diese müssten jetzt aber gecleansed und bearbeitet werden und dann richtig eingefügt (würde den Rahmen des Projeks sprengen)\n",
    "- Es geht eher darum zu zeigen wie wir eine API nutzen könnten -> Folgend verwenden wir aber die Daten nicht da sie den Umfang der Arbeit sprengen würden\n",
    "- Note: Achtung API ist Freemium"
   ]
  },
  {
   "cell_type": "code",
   "execution_count": null,
   "id": "ce3107c7",
   "metadata": {},
   "outputs": [],
   "source": [
    "url = \"https://football-prediction-api.p.rapidapi.com/api/v2/predictions\"\n",
    "query = {\"market\":\"classic\",\"iso_date\":\"2018-12-01\",\"federation\":\"UEFA\"}\n",
    "headers = {\n",
    "    \"X-RapidAPI-Host\": \"football-prediction-api.p.rapidapi.com\",\n",
    "    \"X-RapidAPI-Key\": \"b912b06b60msh453b9c0caa921d1p14120djsnf22ee092a9f7\"\n",
    "}\n",
    "\n",
    "response = requests.request(\"GET\", url, headers=headers, params=query)\n",
    "print(response.text)"
   ]
  }
 ],
 "metadata": {
  "kernelspec": {
   "display_name": "Python 3",
   "language": "python",
   "name": "python3"
  },
  "language_info": {
   "codemirror_mode": {
    "name": "ipython",
    "version": 3
   },
   "file_extension": ".py",
   "mimetype": "text/x-python",
   "name": "python",
   "nbconvert_exporter": "python",
   "pygments_lexer": "ipython3",
   "version": "3.8.8"
  }
 },
 "nbformat": 4,
 "nbformat_minor": 5
}
