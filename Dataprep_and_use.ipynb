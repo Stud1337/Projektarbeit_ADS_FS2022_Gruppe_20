{
 "cells": [
  {
   "cell_type": "code",
   "execution_count": 3,
   "id": "f26e630c",
   "metadata": {},
   "outputs": [],
   "source": [
    "import pandas as pd\n",
    "import numpy as np\n",
    "import matplotlib.pyplot as plt"
   ]
  },
  {
   "cell_type": "code",
   "execution_count": 16,
   "id": "17565328",
   "metadata": {},
   "outputs": [
    {
     "data": {
      "text/html": [
       "<div>\n",
       "<style scoped>\n",
       "    .dataframe tbody tr th:only-of-type {\n",
       "        vertical-align: middle;\n",
       "    }\n",
       "\n",
       "    .dataframe tbody tr th {\n",
       "        vertical-align: top;\n",
       "    }\n",
       "\n",
       "    .dataframe thead th {\n",
       "        text-align: right;\n",
       "    }\n",
       "</style>\n",
       "<table border=\"1\" class=\"dataframe\">\n",
       "  <thead>\n",
       "    <tr style=\"text-align: right;\">\n",
       "      <th></th>\n",
       "      <th>1_Player</th>\n",
       "      <th>2_Nation</th>\n",
       "      <th>3_Pos</th>\n",
       "      <th>4_Squad</th>\n",
       "      <th>5_Comp</th>\n",
       "      <th>6_Age</th>\n",
       "      <th>7_Born</th>\n",
       "      <th>Playing Time_MP</th>\n",
       "      <th>Playing Time_Starts</th>\n",
       "      <th>Playing Time_Min</th>\n",
       "      <th>...</th>\n",
       "      <th>Expected_xG</th>\n",
       "      <th>Expected_npxG</th>\n",
       "      <th>Expected_xA</th>\n",
       "      <th>Expected_npxG+xA</th>\n",
       "      <th>Per 90 Minutes_xG</th>\n",
       "      <th>Per 90 Minutes_xA</th>\n",
       "      <th>Per 90 Minutes_xG+xA</th>\n",
       "      <th>Per 90 Minutes_npxG</th>\n",
       "      <th>Per 90 Minutes_npxG+xA</th>\n",
       "      <th>33_Matches</th>\n",
       "    </tr>\n",
       "  </thead>\n",
       "  <tbody>\n",
       "    <tr>\n",
       "      <th>0</th>\n",
       "      <td>Max Aarons</td>\n",
       "      <td>eng ENG</td>\n",
       "      <td>DF</td>\n",
       "      <td>Norwich City</td>\n",
       "      <td>eng Premier League</td>\n",
       "      <td>22-070</td>\n",
       "      <td>2000</td>\n",
       "      <td>28</td>\n",
       "      <td>27</td>\n",
       "      <td>2398</td>\n",
       "      <td>...</td>\n",
       "      <td>0.7</td>\n",
       "      <td>0.7</td>\n",
       "      <td>1.0</td>\n",
       "      <td>1.6</td>\n",
       "      <td>0.02</td>\n",
       "      <td>0.04</td>\n",
       "      <td>0.06</td>\n",
       "      <td>0.02</td>\n",
       "      <td>0.06</td>\n",
       "      <td>Matches</td>\n",
       "    </tr>\n",
       "    <tr>\n",
       "      <th>1</th>\n",
       "      <td>Yunis Abdelhamid</td>\n",
       "      <td>ma MAR</td>\n",
       "      <td>DF</td>\n",
       "      <td>Reims</td>\n",
       "      <td>fr Ligue 1</td>\n",
       "      <td>34-168</td>\n",
       "      <td>1987</td>\n",
       "      <td>25</td>\n",
       "      <td>25</td>\n",
       "      <td>2173</td>\n",
       "      <td>...</td>\n",
       "      <td>1.0</td>\n",
       "      <td>1.0</td>\n",
       "      <td>0.2</td>\n",
       "      <td>1.2</td>\n",
       "      <td>0.04</td>\n",
       "      <td>0.01</td>\n",
       "      <td>0.05</td>\n",
       "      <td>0.04</td>\n",
       "      <td>0.05</td>\n",
       "      <td>Matches</td>\n",
       "    </tr>\n",
       "    <tr>\n",
       "      <th>2</th>\n",
       "      <td>Salis Abdul Samed</td>\n",
       "      <td>gh GHA</td>\n",
       "      <td>MF</td>\n",
       "      <td>Clermont Foot</td>\n",
       "      <td>fr Ligue 1</td>\n",
       "      <td>21-354</td>\n",
       "      <td>2000</td>\n",
       "      <td>25</td>\n",
       "      <td>24</td>\n",
       "      <td>2057</td>\n",
       "      <td>...</td>\n",
       "      <td>0.7</td>\n",
       "      <td>0.7</td>\n",
       "      <td>0.9</td>\n",
       "      <td>1.6</td>\n",
       "      <td>0.03</td>\n",
       "      <td>0.04</td>\n",
       "      <td>0.07</td>\n",
       "      <td>0.03</td>\n",
       "      <td>0.07</td>\n",
       "      <td>Matches</td>\n",
       "    </tr>\n",
       "    <tr>\n",
       "      <th>3</th>\n",
       "      <td>Laurent Abergel</td>\n",
       "      <td>fr FRA</td>\n",
       "      <td>MF</td>\n",
       "      <td>Lorient</td>\n",
       "      <td>fr Ligue 1</td>\n",
       "      <td>29-042</td>\n",
       "      <td>1993</td>\n",
       "      <td>24</td>\n",
       "      <td>24</td>\n",
       "      <td>2089</td>\n",
       "      <td>...</td>\n",
       "      <td>1.8</td>\n",
       "      <td>1.8</td>\n",
       "      <td>2.1</td>\n",
       "      <td>3.8</td>\n",
       "      <td>0.08</td>\n",
       "      <td>0.09</td>\n",
       "      <td>0.17</td>\n",
       "      <td>0.08</td>\n",
       "      <td>0.17</td>\n",
       "      <td>Matches</td>\n",
       "    </tr>\n",
       "    <tr>\n",
       "      <th>4</th>\n",
       "      <td>Charles Abi</td>\n",
       "      <td>fr FRA</td>\n",
       "      <td>FW</td>\n",
       "      <td>Saint-Étienne</td>\n",
       "      <td>fr Ligue 1</td>\n",
       "      <td>21-337</td>\n",
       "      <td>2000</td>\n",
       "      <td>1</td>\n",
       "      <td>1</td>\n",
       "      <td>45</td>\n",
       "      <td>...</td>\n",
       "      <td>0.0</td>\n",
       "      <td>0.0</td>\n",
       "      <td>0.0</td>\n",
       "      <td>0.0</td>\n",
       "      <td>0.00</td>\n",
       "      <td>0.00</td>\n",
       "      <td>0.00</td>\n",
       "      <td>0.00</td>\n",
       "      <td>0.00</td>\n",
       "      <td>Matches</td>\n",
       "    </tr>\n",
       "  </tbody>\n",
       "</table>\n",
       "<p>5 rows × 33 columns</p>\n",
       "</div>"
      ],
      "text/plain": [
       "            1_Player 2_Nation 3_Pos        4_Squad              5_Comp  \\\n",
       "0         Max Aarons  eng ENG    DF   Norwich City  eng Premier League   \n",
       "1   Yunis Abdelhamid   ma MAR    DF          Reims          fr Ligue 1   \n",
       "2  Salis Abdul Samed   gh GHA    MF  Clermont Foot          fr Ligue 1   \n",
       "3    Laurent Abergel   fr FRA    MF        Lorient          fr Ligue 1   \n",
       "4        Charles Abi   fr FRA    FW  Saint-Étienne          fr Ligue 1   \n",
       "\n",
       "    6_Age 7_Born Playing Time_MP Playing Time_Starts Playing Time_Min  ...  \\\n",
       "0  22-070   2000              28                  27             2398  ...   \n",
       "1  34-168   1987              25                  25             2173  ...   \n",
       "2  21-354   2000              25                  24             2057  ...   \n",
       "3  29-042   1993              24                  24             2089  ...   \n",
       "4  21-337   2000               1                   1               45  ...   \n",
       "\n",
       "  Expected_xG Expected_npxG Expected_xA Expected_npxG+xA Per 90 Minutes_xG  \\\n",
       "0         0.7           0.7         1.0              1.6              0.02   \n",
       "1         1.0           1.0         0.2              1.2              0.04   \n",
       "2         0.7           0.7         0.9              1.6              0.03   \n",
       "3         1.8           1.8         2.1              3.8              0.08   \n",
       "4         0.0           0.0         0.0              0.0              0.00   \n",
       "\n",
       "  Per 90 Minutes_xA Per 90 Minutes_xG+xA Per 90 Minutes_npxG  \\\n",
       "0              0.04                 0.06                0.02   \n",
       "1              0.01                 0.05                0.04   \n",
       "2              0.04                 0.07                0.03   \n",
       "3              0.09                 0.17                0.08   \n",
       "4              0.00                 0.00                0.00   \n",
       "\n",
       "  Per 90 Minutes_npxG+xA 33_Matches  \n",
       "0                   0.06    Matches  \n",
       "1                   0.05    Matches  \n",
       "2                   0.07    Matches  \n",
       "3                   0.17    Matches  \n",
       "4                   0.00    Matches  \n",
       "\n",
       "[5 rows x 33 columns]"
      ]
     },
     "execution_count": 16,
     "metadata": {},
     "output_type": "execute_result"
    }
   ],
   "source": [
    "#daten aus csv einlesen\n",
    "df = pd.read_csv('Big5.csv')\n",
    "df.head()"
   ]
  },
  {
   "cell_type": "code",
   "execution_count": 17,
   "id": "33641c2d",
   "metadata": {},
   "outputs": [
    {
     "data": {
      "text/plain": [
       "245"
      ]
     },
     "execution_count": 17,
     "metadata": {},
     "output_type": "execute_result"
    }
   ],
   "source": [
    "#Daten enthalten \"header\"-daten welche immer mit \"player beginnen\" -> bereinigen\n",
    "players = df['1_Player']\n",
    "df = df[players != 'Player']\n",
    "players.duplicated(keep='first').sum()\n",
    "\n"
   ]
  },
  {
   "cell_type": "code",
   "execution_count": 18,
   "id": "5056ef74",
   "metadata": {},
   "outputs": [
    {
     "data": {
      "text/plain": [
       "1_Player                  object\n",
       "2_Nation                  object\n",
       "3_Pos                     object\n",
       "4_Squad                   object\n",
       "5_Comp                    object\n",
       "6_Age                     object\n",
       "7_Born                    object\n",
       "Playing Time_MP           object\n",
       "Playing Time_Starts       object\n",
       "Playing Time_Min          object\n",
       "Playing Time_90s          object\n",
       "Performance_Gls            int64\n",
       "Performance_Ast            int64\n",
       "Performance_G-PK          object\n",
       "Performance_PK            object\n",
       "Performance_PKatt         object\n",
       "Performance_CrdY          object\n",
       "Performance_CrdR          object\n",
       "Per 90 Minutes_Gls        object\n",
       "Per 90 Minutes_Ast        object\n",
       "Per 90 Minutes_G+A        object\n",
       "Per 90 Minutes_G-PK       object\n",
       "Per 90 Minutes_G+A-PK     object\n",
       "Expected_xG               object\n",
       "Expected_npxG             object\n",
       "Expected_xA               object\n",
       "Expected_npxG+xA          object\n",
       "Per 90 Minutes_xG         object\n",
       "Per 90 Minutes_xA         object\n",
       "Per 90 Minutes_xG+xA      object\n",
       "Per 90 Minutes_npxG       object\n",
       "Per 90 Minutes_npxG+xA    object\n",
       "33_Matches                object\n",
       "dtype: object"
      ]
     },
     "execution_count": 18,
     "metadata": {},
     "output_type": "execute_result"
    }
   ],
   "source": [
    "#Goals und Assists in Integer umwandeln\n",
    "df['Performance_Gls'] = df['Performance_Gls'].astype('int64')\n",
    "df['Performance_Ast'] = df['Performance_Ast'].astype('int64')\n",
    "df.dtypes"
   ]
  },
  {
   "cell_type": "code",
   "execution_count": 19,
   "id": "27755b5e",
   "metadata": {},
   "outputs": [],
   "source": [
    "# Erkentniss: Es gibt Dublikate weil gewisse Spieler bei meherern Teams gespielt haben \n",
    "# -> Assists und Goals summieren und dublikate \"droppen\"\n",
    "\n",
    "df['Performance_Gls'] = df.groupby('1_Player')['Performance_Gls'].transform('sum')\n",
    "df['Performance_Ast'] = df.groupby('1_Player')['Performance_Ast'].transform('sum')\n",
    "df = df.drop_duplicates(subset='1_Player')"
   ]
  },
  {
   "cell_type": "code",
   "execution_count": 20,
   "id": "9cdcef24",
   "metadata": {},
   "outputs": [
    {
     "data": {
      "text/plain": [
       "(2664, 33)"
      ]
     },
     "execution_count": 20,
     "metadata": {},
     "output_type": "execute_result"
    }
   ],
   "source": [
    "df.shape"
   ]
  },
  {
   "cell_type": "code",
   "execution_count": 23,
   "id": "6d13f6ce",
   "metadata": {},
   "outputs": [],
   "source": [
    "#Nur die \"spannenden\" Spalten behalten\n",
    "df1 = df[['1_Player', '3_Pos', '4_Squad', '6_Age', 'Performance_Gls', 'Performance_Ast']]\n",
    "df1.head()\n",
    "\n",
    "df1.to_csv('Big5_bereinigt.csv',index=False)"
   ]
  },
  {
   "cell_type": "code",
   "execution_count": 24,
   "id": "3549f16a",
   "metadata": {},
   "outputs": [
    {
     "data": {
      "text/html": [
       "<div>\n",
       "<style scoped>\n",
       "    .dataframe tbody tr th:only-of-type {\n",
       "        vertical-align: middle;\n",
       "    }\n",
       "\n",
       "    .dataframe tbody tr th {\n",
       "        vertical-align: top;\n",
       "    }\n",
       "\n",
       "    .dataframe thead th {\n",
       "        text-align: right;\n",
       "    }\n",
       "</style>\n",
       "<table border=\"1\" class=\"dataframe\">\n",
       "  <thead>\n",
       "    <tr style=\"text-align: right;\">\n",
       "      <th></th>\n",
       "      <th>Performance_Gls</th>\n",
       "      <th>Performance_Ast</th>\n",
       "    </tr>\n",
       "  </thead>\n",
       "  <tbody>\n",
       "    <tr>\n",
       "      <th>count</th>\n",
       "      <td>2664.000000</td>\n",
       "      <td>2664.000000</td>\n",
       "    </tr>\n",
       "    <tr>\n",
       "      <th>mean</th>\n",
       "      <td>1.373498</td>\n",
       "      <td>0.930931</td>\n",
       "    </tr>\n",
       "    <tr>\n",
       "      <th>std</th>\n",
       "      <td>2.546110</td>\n",
       "      <td>1.559111</td>\n",
       "    </tr>\n",
       "    <tr>\n",
       "      <th>min</th>\n",
       "      <td>0.000000</td>\n",
       "      <td>0.000000</td>\n",
       "    </tr>\n",
       "    <tr>\n",
       "      <th>25%</th>\n",
       "      <td>0.000000</td>\n",
       "      <td>0.000000</td>\n",
       "    </tr>\n",
       "    <tr>\n",
       "      <th>50%</th>\n",
       "      <td>0.000000</td>\n",
       "      <td>0.000000</td>\n",
       "    </tr>\n",
       "    <tr>\n",
       "      <th>75%</th>\n",
       "      <td>2.000000</td>\n",
       "      <td>1.000000</td>\n",
       "    </tr>\n",
       "    <tr>\n",
       "      <th>max</th>\n",
       "      <td>29.000000</td>\n",
       "      <td>16.000000</td>\n",
       "    </tr>\n",
       "  </tbody>\n",
       "</table>\n",
       "</div>"
      ],
      "text/plain": [
       "       Performance_Gls  Performance_Ast\n",
       "count      2664.000000      2664.000000\n",
       "mean          1.373498         0.930931\n",
       "std           2.546110         1.559111\n",
       "min           0.000000         0.000000\n",
       "25%           0.000000         0.000000\n",
       "50%           0.000000         0.000000\n",
       "75%           2.000000         1.000000\n",
       "max          29.000000        16.000000"
      ]
     },
     "execution_count": 24,
     "metadata": {},
     "output_type": "execute_result"
    }
   ],
   "source": [
    "df1.describe()"
   ]
  },
  {
   "cell_type": "code",
   "execution_count": 36,
   "id": "145e6e8c",
   "metadata": {},
   "outputs": [
    {
     "data": {
      "image/png": "[encoded data removed]",
      "text/plain": [
       "<Figure size 432x288 with 1 Axes>"
      ]
     },
     "metadata": {
      "needs_background": "light"
     },
     "output_type": "display_data"
    }
   ],
   "source": [
    "#\n",
    "plt.hist(df1['Performance_Ast'], bins=8, density=True)\n",
    "plt.xlabel('Anzahl gegebene Assists')\n",
    "plt.ylabel('verteilung')\n",
    "plt.show()"
   ]
  },
  {
   "cell_type": "code",
   "execution_count": 57,
   "id": "1121f23a",
   "metadata": {},
   "outputs": [
    {
     "data": {
      "text/plain": [
       "0     1526\n",
       "1      544\n",
       "2      276\n",
       "3      151\n",
       "4       60\n",
       "5       43\n",
       "6       22\n",
       "7       22\n",
       "9        7\n",
       "8        6\n",
       "10       3\n",
       "11       3\n",
       "16       1\n",
       "Name: Performance_Ast, dtype: int64"
      ]
     },
     "execution_count": 57,
     "metadata": {},
     "output_type": "execute_result"
    }
   ],
   "source": [
    "df1['Performance_Ast'].value_counts()"
   ]
  },
  {
   "cell_type": "code",
   "execution_count": 58,
   "id": "48343d26",
   "metadata": {},
   "outputs": [],
   "source": [
    "#googled\n",
    "def verteilung(df1):\n",
    "    # n - number of data points\n",
    "    n = len(df1)\n",
    "    # x - x-data for ECDF\n",
    "    x = np.sort(df1)\n",
    "    # y - y-data for ECDF\n",
    "    y = np.arange(1, n+1) / n\n",
    "    print(n)\n",
    "    return x, y"
   ]
  },
  {
   "cell_type": "code",
   "execution_count": 59,
   "id": "16841b2a",
   "metadata": {},
   "outputs": [
    {
     "name": "stdout",
     "output_type": "stream",
     "text": [
      "2664\n"
     ]
    },
    {
     "data": {
      "image/png": "[encoded data removed]",
      "text/plain": [
       "<Figure size 432x288 with 1 Axes>"
      ]
     },
     "metadata": {
      "needs_background": "light"
     },
     "output_type": "display_data"
    }
   ],
   "source": [
    "# Verteilung der Assists in plot\n",
    "#n - number of data points\n",
    "x, y = verteilung(df1['Performance_Ast'])\n",
    "#plot\n",
    "plt.scatter(x, y)\n",
    "plt.xlabel('Anzahl Assist')\n",
    "plt.ylabel('verteilung')\n",
    "plt.show()\n"
   ]
  },
  {
   "cell_type": "code",
   "execution_count": null,
   "id": "43c37759",
   "metadata": {},
   "outputs": [],
   "source": [
    "#Aussagen die sich machen lassen: Bspw. 60% aller 2664 Spieler haben keinen Assist in dieser Saison"
   ]
  },
  {
   "cell_type": "code",
   "execution_count": 64,
   "id": "c3e09a78",
   "metadata": {},
   "outputs": [
    {
     "data": {
      "text/plain": [
       "DF       868\n",
       "MF       569\n",
       "FW       371\n",
       "FW,MF    268\n",
       "MF,FW    222\n",
       "GK       187\n",
       "DF,MF     66\n",
       "MF,DF     56\n",
       "DF,FW     31\n",
       "FW,DF     25\n",
       "GK,MF      1\n",
       "Name: 3_Pos, dtype: int64"
      ]
     },
     "execution_count": 64,
     "metadata": {},
     "output_type": "execute_result"
    }
   ],
   "source": [
    "df1['3_Pos'].value_counts()\n"
   ]
  },
  {
   "cell_type": "code",
   "execution_count": 67,
   "id": "655ff0c2",
   "metadata": {},
   "outputs": [
    {
     "name": "stdout",
     "output_type": "stream",
     "text": [
      "11\n"
     ]
    }
   ],
   "source": [
    "ast_goalies = df1[df1['3_Pos'] == 'GK']['Performance_Ast'].sum()\n",
    "#Assists von Goalies in den Top 5 Ligen\n",
    "print(ast_goalies)"
   ]
  },
  {
   "cell_type": "code",
   "execution_count": 69,
   "id": "ca1d0db6",
   "metadata": {},
   "outputs": [
    {
     "data": {
      "text/plain": [
       "DF       868\n",
       "MF       569\n",
       "FW       371\n",
       "FW,MF    268\n",
       "MF,FW    222\n",
       "DF,MF     66\n",
       "MF,DF     56\n",
       "DF,FW     31\n",
       "FW,DF     25\n",
       "Name: 3_Pos, dtype: int64"
      ]
     },
     "execution_count": 69,
     "metadata": {},
     "output_type": "execute_result"
    }
   ],
   "source": [
    "#Goalies entfernen... da die keinen Sinn machen\n",
    "df = df[df['3_Pos'] != 'GK']\n",
    "df = df[df['3_Pos'] != 'GK,MF']\n",
    "df['3_Pos'].value_counts()"
   ]
  }
 ],
 "metadata": {
  "kernelspec": {
   "display_name": "Python 3",
   "language": "python",
   "name": "python3"
  },
  "language_info": {
   "codemirror_mode": {
    "name": "ipython",
    "version": 3
   },
   "file_extension": ".py",
   "mimetype": "text/x-python",
   "name": "python",
   "nbconvert_exporter": "python",
   "pygments_lexer": "ipython3",
   "version": "3.8.8"
  }
 },
 "nbformat": 4,
 "nbformat_minor": 5
}
