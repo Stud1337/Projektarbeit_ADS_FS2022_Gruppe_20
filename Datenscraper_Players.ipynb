{
 "cells": [
  {
   "cell_type": "code",
   "execution_count": 35,
   "id": "6d430c0c",
   "metadata": {},
   "outputs": [],
   "source": [
    "#Angelehnt an: https://github.com/parth1902/Scrape-FBref-data/blob/master/README.md\n",
    "#Weitere Links: https://statsbomb.com/articles/soccer/statsbomb-release-free-2020-21-fa-womens-super-league-data-updated-r-guide/\n",
    "\n",
    "#Packete\n",
    "import pandas as pd\n",
    "import requests\n",
    "import matplotlib.pyplot as plt\n",
    "import seaborn as sns\n",
    "\n",
    "#Scraper funktion\n",
    "def scraper(url, table_number):\n",
    "    #Variablen welche übergeben werden müssen\n",
    "    #URL: eine FBREF URL mit einer Tabelle\n",
    "    #table_number: welche Tabelle auf der Seite (startet mit 0)\n",
    "    url = url\n",
    "    table_number = table_number\n",
    "    global data\n",
    "    #Änderungen an HTML damits läuft\n",
    "    #siehe: https://github.com/parth1902/Scrape-FBref-data/blob/master/README.md\n",
    "    html_content = requests.get(url).text.replace('<!--', '').replace('-->', '')\n",
    "    df = pd.read_html(html_content)\n",
    "    #Ldf laden\n",
    "    data = df[table_number]\n",
    "     \n",
    "    column_names = [\"_\".join(col) for col in data.columns.values]\n",
    "    column_names = [col.replace(\"Unnamed: \",\"\").replace('_level_0','') for col in column_names]\n",
    "    data.columns = column_names\n",
    "    # Wenn NaN Problem -> auskommentieren\n",
    "    # data = data.dropna()\n",
    "    data[data.columns[0]]\n",
    "    if data.columns[0] == \"0_Rk\":\n",
    "        data[data['1_Player'] != 'Player']\n",
    "        del data['0_Rk']\n",
    "    elif data.columns[0] == '0_Player':\n",
    "        data[data['0_Player'] != 'Player']"
   ]
  },
  {
   "cell_type": "code",
   "execution_count": 40,
   "id": "bc0979d7",
   "metadata": {},
   "outputs": [],
   "source": [
    "#Variablen welche übergeben werden müssen\n",
    "#URL: eine FBREF URL mit einer Tabelle (bspw. https://fbref.com/en/squads/b8fd03ef/Manchester-City-Stats)\n",
    "#table_number: welche Tabelle auf der Seite (startet mit 0)\n",
    "\n",
    "url = 'https://fbref.com/en/comps/Big5/stats/players/Big-5-European-Leagues-Stats'\n",
    "table_number = 1\n",
    "\n",
    "scraper(url, table_number)\n",
    "data\n",
    "\n",
    "data.to_csv('Big5.csv',index=False)"
   ]
  }
 ],
 "metadata": {
  "kernelspec": {
   "display_name": "Python 3",
   "language": "python",
   "name": "python3"
  },
  "language_info": {
   "codemirror_mode": {
    "name": "ipython",
    "version": 3
   },
   "file_extension": ".py",
   "mimetype": "text/x-python",
   "name": "python",
   "nbconvert_exporter": "python",
   "pygments_lexer": "ipython3",
   "version": "3.8.8"
  }
 },
 "nbformat": 4,
 "nbformat_minor": 5
}
